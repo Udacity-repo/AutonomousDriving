{
 "cells": [
  {
   "cell_type": "code",
   "execution_count": 1,
   "metadata": {
    "collapsed": false
   },
   "outputs": [],
   "source": [
    "import numpy as np\n",
    "import ransac as RS\n",
    "%load_ext autoreload\n",
    "%autoreload 2"
   ]
  },
  {
   "cell_type": "code",
   "execution_count": 2,
   "metadata": {
    "collapsed": false
   },
   "outputs": [],
   "source": [
    "input_columns = [0]\n",
    "output_columns = [1]\n",
    "debug = False\n",
    "model = RS.LinearLeastSquaresModelWithIntercept(input_columns,output_columns,debug=debug)"
   ]
  },
  {
   "cell_type": "code",
   "execution_count": 3,
   "metadata": {
    "collapsed": false
   },
   "outputs": [
    {
     "name": "stdout",
     "output_type": "stream",
     "text": [
      "[[  0.   1.]\n",
      " [  1.   3.]\n",
      " [  2.   5.]\n",
      " [  3.   7.]\n",
      " [  4.   9.]\n",
      " [  5.  11.]\n",
      " [  6.  13.]\n",
      " [  7.  15.]\n",
      " [  8.  17.]\n",
      " [  9.  19.]\n",
      " [  1.  10.]\n",
      " [  2.  20.]]\n",
      "[[  0.   1.]\n",
      " [  1.   3.]\n",
      " [  2.   5.]\n",
      " [  3.   7.]\n",
      " [  4.   9.]\n",
      " [  5.  11.]\n",
      " [  6.  13.]\n",
      " [  7.  15.]\n",
      " [  8.  17.]\n",
      " [  9.  19.]\n",
      " [  1.  10.]\n",
      " [  2.  20.]]\n"
     ]
    }
   ],
   "source": [
    "numDataPoints = 10\n",
    "true_data = np.vstack([i, 2*i+1.0] for i in xrange(numDataPoints))\n",
    "outliers= np.array([[1,10],[2,20]])\n",
    "all_data = np.vstack([true_data, outliers])\n",
    "print all_data"
   ]
  },
  {
   "cell_type": "code",
   "execution_count": 5,
   "metadata": {
    "collapsed": false
   },
   "outputs": [
    {
     "name": "stdout",
     "output_type": "stream",
     "text": [
      "[[ 1.  0.]\n",
      " [ 1.  1.]\n",
      " [ 1.  2.]\n",
      " [ 1.  3.]\n",
      " [ 1.  4.]\n",
      " [ 1.  5.]\n",
      " [ 1.  6.]\n",
      " [ 1.  7.]\n",
      " [ 1.  8.]\n",
      " [ 1.  9.]\n",
      " [ 1.  1.]\n",
      " [ 1.  2.]]\n",
      "np.shape(A) (12, 2)\n",
      "[[  1.]\n",
      " [  3.]\n",
      " [  5.]\n",
      " [  7.]\n",
      " [  9.]\n",
      " [ 11.]\n",
      " [ 13.]\n",
      " [ 15.]\n",
      " [ 17.]\n",
      " [ 19.]\n",
      " [ 10.]\n",
      " [ 20.]]\n",
      "[  1.   3.   5.   7.   9.  11.  13.  15.  17.  19.   3.   5.]\n",
      "[[  0.]\n",
      " [  0.]\n",
      " [  0.]\n",
      " [  0.]\n",
      " [  0.]\n",
      " [  0.]\n",
      " [  0.]\n",
      " [  0.]\n",
      " [  0.]\n",
      " [  0.]\n",
      " [  7.]\n",
      " [ 15.]]\n",
      "np.shape(C) (12, 1)\n",
      "[[ 1.  0.]\n",
      " [ 1.  1.]\n",
      " [ 1.  2.]\n",
      " [ 1.  3.]\n",
      " [ 1.  4.]\n",
      " [ 1.  5.]\n",
      " [ 1.  6.]\n",
      " [ 1.  7.]\n",
      " [ 1.  8.]\n",
      " [ 1.  9.]\n",
      " [ 1.  1.]\n",
      " [ 1.  2.]]\n",
      "np.shape(A) (12, 2)\n",
      "[[  1.]\n",
      " [  3.]\n",
      " [  5.]\n",
      " [  7.]\n",
      " [  9.]\n",
      " [ 11.]\n",
      " [ 13.]\n",
      " [ 15.]\n",
      " [ 17.]\n",
      " [ 19.]\n",
      " [ 10.]\n",
      " [ 20.]]\n",
      "[  1.   3.   5.   7.   9.  11.  13.  15.  17.  19.   3.   5.]\n",
      "[[  0.]\n",
      " [  0.]\n",
      " [  0.]\n",
      " [  0.]\n",
      " [  0.]\n",
      " [  0.]\n",
      " [  0.]\n",
      " [  0.]\n",
      " [  0.]\n",
      " [  0.]\n",
      " [  7.]\n",
      " [ 15.]]\n",
      "np.shape(C) (12, 1)\n"
     ]
    }
   ],
   "source": [
    "A,B = model.constructAB(all_data)\n",
    "print A\n",
    "print \"np.shape(A)\", np.shape(A)\n",
    "print B\n",
    "modelCoeffs = np.array([1.0,2.0])\n",
    "B_fit = np.dot(A,modelCoeffs)\n",
    "print B_fit\n",
    "D = np.reshape(B_fit,np.shape(B))\n",
    "C = B - D\n",
    "print C\n",
    "print \"np.shape(C)\", np.shape(C)"
   ]
  },
  {
   "cell_type": "code",
   "execution_count": 6,
   "metadata": {
    "collapsed": false
   },
   "outputs": [
    {
     "name": "stdout",
     "output_type": "stream",
     "text": [
      "[ 1.  2.]\n",
      "[[  1.]\n",
      " [  3.]\n",
      " [  5.]\n",
      " [  7.]\n",
      " [  9.]\n",
      " [ 11.]\n",
      " [ 13.]\n",
      " [ 15.]\n",
      " [ 17.]\n",
      " [ 19.]\n",
      " [ 10.]\n",
      " [ 20.]]\n",
      "[[  1.]\n",
      " [  3.]\n",
      " [  5.]\n",
      " [  7.]\n",
      " [  9.]\n",
      " [ 11.]\n",
      " [ 13.]\n",
      " [ 15.]\n",
      " [ 17.]\n",
      " [ 19.]\n",
      " [  3.]\n",
      " [  5.]]\n",
      "[[  0.]\n",
      " [  0.]\n",
      " [  0.]\n",
      " [  0.]\n",
      " [  0.]\n",
      " [  0.]\n",
      " [  0.]\n",
      " [  0.]\n",
      " [  0.]\n",
      " [  0.]\n",
      " [  7.]\n",
      " [ 15.]]\n",
      "[   0.    0.    0.    0.    0.    0.    0.    0.    0.    0.   49.  225.]\n",
      "[ 1.  2.]\n",
      "[[  1.]\n",
      " [  3.]\n",
      " [  5.]\n",
      " [  7.]\n",
      " [  9.]\n",
      " [ 11.]\n",
      " [ 13.]\n",
      " [ 15.]\n",
      " [ 17.]\n",
      " [ 19.]\n",
      " [ 10.]\n",
      " [ 20.]]\n",
      "[[  1.]\n",
      " [  3.]\n",
      " [  5.]\n",
      " [  7.]\n",
      " [  9.]\n",
      " [ 11.]\n",
      " [ 13.]\n",
      " [ 15.]\n",
      " [ 17.]\n",
      " [ 19.]\n",
      " [  3.]\n",
      " [  5.]]\n",
      "[[  0.]\n",
      " [  0.]\n",
      " [  0.]\n",
      " [  0.]\n",
      " [  0.]\n",
      " [  0.]\n",
      " [  0.]\n",
      " [  0.]\n",
      " [  0.]\n",
      " [  0.]\n",
      " [  7.]\n",
      " [ 15.]]\n",
      "[   0.    0.    0.    0.    0.    0.    0.    0.    0.    0.   49.  225.]\n"
     ]
    }
   ],
   "source": [
    "modelCoeffs = model.fit(all_data)\n",
    "modelCoeffs = np.array([1.0,2])\n",
    "print modelCoeffs\n",
    "error = model.get_error(all_data, modelCoeffs)\n",
    "print error"
   ]
  },
  {
   "cell_type": "code",
   "execution_count": null,
   "metadata": {
    "collapsed": false
   },
   "outputs": [],
   "source": [
    "ransac_fit, ransac_data = RS.ransac(all_data, model,2,10,0.1,4, return_all=True)\n",
    "print ransac_fit\n",
    "print ransac_data"
   ]
  },
  {
   "cell_type": "code",
   "execution_count": null,
   "metadata": {
    "collapsed": false
   },
   "outputs": [],
   "source": [
    "ransac_data['inliers']"
   ]
  },
  {
   "cell_type": "code",
   "execution_count": null,
   "metadata": {
    "collapsed": false
   },
   "outputs": [],
   "source": [
    "data = all_data\n",
    "input_columns = [0,1]\n",
    "A = data[:, input_columns]\n",
    "numDataPoints = np.shape(data)[0]\n",
    "constantTerm = np.ones((numDataPoints,1))\n",
    "A = np.hstack([constantTerm, A])\n",
    "print A"
   ]
  },
  {
   "cell_type": "code",
   "execution_count": null,
   "metadata": {
    "collapsed": false
   },
   "outputs": [],
   "source": [
    "np.random.random(10) - 0.5"
   ]
  },
  {
   "cell_type": "code",
   "execution_count": null,
   "metadata": {
    "collapsed": true
   },
   "outputs": [],
   "source": [
    "a = np.array([1,0,0])\n",
    "b = np.array([0,0,1])\n"
   ]
  }
 ],
 "metadata": {
  "kernelspec": {
   "display_name": "Python 2",
   "language": "python",
   "name": "python2"
  },
  "language_info": {
   "codemirror_mode": {
    "name": "ipython",
    "version": 2
   },
   "file_extension": ".py",
   "mimetype": "text/x-python",
   "name": "python",
   "nbconvert_exporter": "python",
   "pygments_lexer": "ipython2",
   "version": "2.7.10"
  }
 },
 "nbformat": 4,
 "nbformat_minor": 0
}
